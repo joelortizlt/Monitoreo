{
 "cells": [
  {
   "cell_type": "code",
   "execution_count": null,
   "metadata": {},
   "outputs": [],
   "source": [
    "#%%\n",
    "import numpy as np\n",
    "import pandas as pd\n",
    "import itertools as it\n",
    "import matplotlib.pyplot as plt\n",
    "from sklearn.metrics import mean_absolute_error\n",
    "from source.engine import funciones as f\n",
    "from source.engine.InputsNoRevolvente import InputsNoRevolvente\n",
    "from source.engine.OutputsNoRevolvente import OutputsNoRevolvente\n",
    "\n",
    "ruta = r'C:\\Users\\joelo\\Documents\\Python\\Monitoreo\\Data'\n",
    "\n",
    "nombreproducto = '\\hipot'\n",
    "REAL = pd.read_csv(ruta+str(nombreproducto)+'_real.csv')\n",
    "TEORICO = pd.read_csv(ruta+str(nombreproducto)+'_inputs.csv')\n",
    "PRECIOS = pd.read_csv(ruta+str(nombreproducto)+'_precios.csv')\n",
    "\n",
    "inicio = 202101\n",
    "fin = 202212\n",
    "product = InputsNoRevolvente(REAL,TEORICO,mincosecha=inicio,maxcosecha=fin)\n"
   ]
  },
  {
   "cell_type": "code",
   "execution_count": null,
   "metadata": {},
   "outputs": [],
   "source": [
    "lista_cortes = [['C_TOTAL'],\n",
    "                ['C_QUARTER'],\n",
    "                ['C_QUARTER','C_PLAZO'],['C_QUARTER','C_PLAZO','C_SEGMENTO'],\n",
    "                ['C_QUARTER','C_SEGMENTO'],['C_QUARTER','C_SEGMENTO','C_PLAZO'],\n",
    "                ['C_PLAZO'],\n",
    "                ['C_PLAZO','C_QUARTER'],['C_PLAZO','C_QUARTER','C_SEGMENTO'],\n",
    "                ['C_PLAZO','C_SEGMENTO'],['C_PLAZO','C_SEGMENTO','C_QUARTER'],\n",
    "                ['C_SEGMENTO'],\n",
    "                ['C_SEGMENTO','C_QUARTER'],['C_SEGMENTO','C_QUARTER','C_PLAZO'],\n",
    "                ['C_SEGMENTO','C_PLAZO'], ['C_SEGMENTO','C_PLAZO','C_QUARTER']\n",
    "                ]           \n"
   ]
  },
  {
   "cell_type": "code",
   "execution_count": null,
   "metadata": {},
   "outputs": [],
   "source": [
    "lista_cortes = [['C_TOTAL']]\n",
    "#product.curvasR['vivos']"
   ]
  },
  {
   "cell_type": "code",
   "execution_count": null,
   "metadata": {},
   "outputs": [],
   "source": [
    "appended_curvas = []\n",
    "for agregado_cortes in lista_cortes:\n",
    "\n",
    "    product.condensar(agregado_cortes)\n",
    "    product.optimizar()\n",
    "    product.impacto(PRECIOS)\n",
    "\n",
    "    curvas = pd.merge(left=product.curvas, right=product.Impacto[agregado_cortes \n",
    "                                                                 + ['ROA_base'] + ['ROA_delta_pd'] + ['ROA_delta_can'] + ['ROA_delta_pre'] + ['ROA_final']\n",
    "                                                                 + ['TIR_base'] + ['TIR_delta_pd'] + ['TIR_delta_can'] + ['TIR_delta_pre'] + ['TIR_final']], \n",
    "                      how='left', left_on=agregado_cortes, right_on=agregado_cortes)\n",
    "    \n",
    "    if len(agregado_cortes) == 1:\n",
    "        corte = curvas[agregado_cortes[0]].map(str)\n",
    "    elif len(agregado_cortes) == 2:\n",
    "        corte = curvas[agregado_cortes[0]].map(str) + '-' + curvas[agregado_cortes[1]].map(str)\n",
    "    elif len(agregado_cortes) == 3:\n",
    "        corte = curvas[agregado_cortes[0]].map(str) + '-' + curvas[agregado_cortes[1]].map(str) + '-' + curvas[agregado_cortes[2]].map(str)\n",
    "\n",
    "    curvas['CORTE'] = corte\n",
    "    curvas = curvas[ ['CORTE'] + [ col for col in curvas.columns if col != 'CORTE' ] ]\n",
    "\n",
    "    appended_curvas.append(curvas)\n",
    "    \n",
    "appended_curvas = pd.concat(appended_curvas, ignore_index=True)"
   ]
  },
  {
   "cell_type": "code",
   "execution_count": null,
   "metadata": {},
   "outputs": [],
   "source": [
    "dicts = {}\n",
    "keys = appended_curvas.CORTE\n",
    "keys2 = ['pd_real', 'can_real', 'pre_real', 'pd_teorico', 'can_teorico','pre_teorico']\n",
    "values = {'pd_real': ['PD','REAL'], 'can_real': ['Cancelaciones','REAL'], 'pre_real': ['Prepagos','REAL'],\n",
    "          'pd_teorico': ['PD','TEORICO'], 'can_teorico': ['Cancelaciones','TEORICO'], 'pre_teorico': ['Prepagos','TEORICO']}\n",
    "\n",
    "for i in keys.index:\n",
    "    dicts[keys[i]] = values\n"
   ]
  },
  {
   "cell_type": "code",
   "execution_count": null,
   "metadata": {},
   "outputs": [],
   "source": [
    "\"\"\"  columns = ['CORTE','MODELO','CURVA','MADURACION','VALOR']\n",
    "df = pd.DataFrame(columns=columns)\n",
    "d = {}\n",
    "\n",
    "for key in keys:\n",
    "    for key2 in keys2:\n",
    "        d[key,key2] = pd.DataFrame(columns=columns)\n",
    "        d[key,key2]['VALOR'] = appended_curvas.loc[appended_curvas['CORTE'] == key].reset_index(drop=True).at[0,key2]\n",
    "        d[key,key2]['MODELO'] = dicts[key][key2][0]\n",
    "        d[key,key2]['CURVA'] = dicts[key][key2][1]\n",
    "        d[key,key2]['MADURACION'] = d[key,key2].index + 1\n",
    "        d[key,key2]['CORTE'] = key\"\"\""
   ]
  },
  {
   "cell_type": "code",
   "execution_count": null,
   "metadata": {},
   "outputs": [],
   "source": [
    "columns = ['CORTE','OPERACIONES','OPE_MADURACION','MADURACION',\n",
    "           'PD_REAL','PD_TEORICO','CAN_REAL','CAN_TEORICO','PREPAGO_REAL','PREPAGO_TEORICO',\n",
    "           'ROA_base','ROA_delta_pd','ROA_delta_can','ROA_delta_pre','ROA_final',\n",
    "           'TIR_base','TIR_delta_pd','TIR_delta_can','TIR_delta_pre','TIR_final']\n",
    "df = pd.DataFrame(columns=columns)\n",
    "d = {}\n",
    "\n",
    "for key in keys:\n",
    "\n",
    "    d[key] = pd.DataFrame(columns=columns)\n",
    "    d[key]['PD_REAL'] = appended_curvas.loc[appended_curvas['CORTE'] == key].reset_index(drop=True).at[0,'pd_real'] \n",
    "    d[key]['PD_TEORICO'] = appended_curvas.loc[appended_curvas['CORTE'] == key].reset_index(drop=True).at[0,'pd_teorico'] \n",
    "    d[key]['CAN_REAL'] = appended_curvas.loc[appended_curvas['CORTE'] == key].reset_index(drop=True).at[0,'can_real'] \n",
    "    d[key]['CAN_TEORICO'] = appended_curvas.loc[appended_curvas['CORTE'] == key].reset_index(drop=True).at[0,'can_teorico'] \n",
    "    d[key]['PREPAGO_REAL'] = appended_curvas.loc[appended_curvas['CORTE'] == key].reset_index(drop=True).at[0,'pre_real'] \n",
    "    d[key]['PREPAGO_TEORICO'] = appended_curvas.loc[appended_curvas['CORTE'] == key].reset_index(drop=True).at[0,'pre_teorico'] \n",
    "    d[key]['OPE_MADURACION'] = appended_curvas.loc[appended_curvas['CORTE'] == key].reset_index(drop=True).at[0,'vivos'] \n",
    "    d[key]['MADURACION'] = d[key].index + 1\n",
    "    d[key]['ROA_base'] = appended_curvas.loc[appended_curvas['CORTE'] == key].reset_index(drop=True).at[0,'ROA_base']\n",
    "    d[key]['ROA_delta_pd'] = appended_curvas.loc[appended_curvas['CORTE'] == key].reset_index(drop=True).at[0,'ROA_delta_pd']\n",
    "    d[key]['ROA_delta_can'] = appended_curvas.loc[appended_curvas['CORTE'] == key].reset_index(drop=True).at[0,'ROA_delta_can']\n",
    "    d[key]['ROA_delta_pre'] = appended_curvas.loc[appended_curvas['CORTE'] == key].reset_index(drop=True).at[0,'ROA_delta_pre']\n",
    "    d[key]['ROA_final'] = appended_curvas.loc[appended_curvas['CORTE'] == key].reset_index(drop=True).at[0,'ROA_final']\n",
    "    d[key]['TIR_base'] = appended_curvas.loc[appended_curvas['CORTE'] == key].reset_index(drop=True).at[0,'TIR_base']\n",
    "    d[key]['TIR_delta_pd'] = appended_curvas.loc[appended_curvas['CORTE'] == key].reset_index(drop=True).at[0,'TIR_delta_pd']\n",
    "    d[key]['TIR_delta_can'] = appended_curvas.loc[appended_curvas['CORTE'] == key].reset_index(drop=True).at[0,'TIR_delta_can']\n",
    "    d[key]['TIR_delta_pre'] = appended_curvas.loc[appended_curvas['CORTE'] == key].reset_index(drop=True).at[0,'TIR_delta_pre']\n",
    "    d[key]['TIR_final'] = appended_curvas.loc[appended_curvas['CORTE'] == key].reset_index(drop=True).at[0,'TIR_final']\n",
    "    d[key]['OPERACIONES'] = appended_curvas.loc[appended_curvas['CORTE'] == key].reset_index(drop=True).at[0,'recuento']\n",
    "    d[key]['CORTE'] = key"
   ]
  },
  {
   "cell_type": "code",
   "execution_count": null,
   "metadata": {},
   "outputs": [],
   "source": [
    "pd.concat({k: pd.DataFrame(v) for k, v in d.items()}, axis=0, ignore_index=True).to_excel('monitoreo.xlsx')"
   ]
  },
  {
   "cell_type": "code",
   "execution_count": null,
   "metadata": {},
   "outputs": [],
   "source": []
  }
 ],
 "metadata": {
  "kernelspec": {
   "display_name": "Python 3",
   "language": "python",
   "name": "python3"
  },
  "language_info": {
   "codemirror_mode": {
    "name": "ipython",
    "version": 3
   },
   "file_extension": ".py",
   "mimetype": "text/x-python",
   "name": "python",
   "nbconvert_exporter": "python",
   "pygments_lexer": "ipython3",
   "version": "3.10.11"
  },
  "orig_nbformat": 4
 },
 "nbformat": 4,
 "nbformat_minor": 2
}
